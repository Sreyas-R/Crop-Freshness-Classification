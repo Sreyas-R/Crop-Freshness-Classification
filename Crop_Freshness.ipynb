{
 "cells": [
  {
   "cell_type": "code",
   "execution_count": null,
   "metadata": {},
   "outputs": [],
   "source": [
    "!pip install ultralytics"
   ]
  },
  {
   "cell_type": "code",
   "execution_count": 46,
   "metadata": {},
   "outputs": [],
   "source": [
    "from IPython.display import Image, display\n"
   ]
  },
  {
   "cell_type": "code",
   "execution_count": 47,
   "metadata": {},
   "outputs": [
    {
     "data": {
      "image/jpeg": "[encoded data removed]",
      "text/plain": [
       "<IPython.core.display.Image object>"
      ]
     },
     "execution_count": 47,
     "metadata": {
      "image/jpeg": {
       "width": 600
      }
     },
     "output_type": "execute_result"
    }
   ],
   "source": [
    "Image(filename=f'C://Users/Sreyas/Desktop/DViz/AppleLeaf.jpeg', width=600)\n"
   ]
  },
  {
   "cell_type": "code",
   "execution_count": 48,
   "metadata": {},
   "outputs": [
    {
     "name": "stderr",
     "output_type": "stream",
     "text": [
      "\n",
      "image 1/1 C:\\Users\\Sreyas\\Desktop\\DViz\\AppleLeaf.jpeg: 640x576 1 Apple leaf, 1414.0ms\n",
      "Speed: 2.0ms preprocess, 1414.0ms inference, 3.0ms postprocess per image at shape (1, 3, 640, 640)\n"
     ]
    }
   ],
   "source": [
    "from ultralytics import YOLO\n",
    "\n",
    "# Load the pre-trained YOLOv8 model\n",
    "model = YOLO(\"C:/Users/Sreyas/Downloads/cropyolo.pt\")\n",
    "\n",
    "# Specify the path to the input image\n",
    "image_path = \"C://Users/Sreyas/Desktop/DViz/AppleLeaf.jpeg\"\n",
    "\n",
    "# Perform object detection on the input image\n",
    "results = model(image_path)\n",
    "\n"
   ]
  },
  {
   "cell_type": "code",
   "execution_count": 19,
   "metadata": {},
   "outputs": [
    {
     "data": {
      "image/jpeg": "[encoded data removed]",
      "text/plain": [
       "<IPython.core.display.Image object>"
      ]
     },
     "execution_count": 19,
     "metadata": {
      "image/jpeg": {
       "width": 600
      }
     },
     "output_type": "execute_result"
    }
   ],
   "source": [
    "Image(filename=f'C://Users/Sreyas/Desktop/DViz/CornRust.jpeg', width=600)\n"
   ]
  },
  {
   "cell_type": "code",
   "execution_count": 43,
   "metadata": {},
   "outputs": [
    {
     "name": "stderr",
     "output_type": "stream",
     "text": [
      "\n",
      "image 1/1 C:\\Users\\Sreyas\\Desktop\\DViz\\CornRust.jpeg: 448x640 1 Corn rust leaf, 751.0ms\n",
      "Speed: 2.0ms preprocess, 751.0ms inference, 5.0ms postprocess per image at shape (1, 3, 640, 640)\n"
     ]
    }
   ],
   "source": [
    "from ultralytics import YOLO\n",
    "\n",
    "model = YOLO(\"C:/Users/Sreyas/Downloads/cropyolo.pt\")\n",
    "\n",
    "image_path = \"C://Users/Sreyas/Desktop/DViz/CornRust.jpeg\"\n",
    "\n",
    "results = model.predict(image_path)\n",
    "\n"
   ]
  },
  {
   "cell_type": "code",
   "execution_count": 42,
   "metadata": {},
   "outputs": [],
   "source": [
    "from PIL import Image, ImageDraw\n",
    "\n",
    "image = Image.open(image_path)\n",
    "boxes = results[0].boxes.xyxy.tolist()\n",
    "classes = results[0].boxes.cls.tolist()\n",
    "names = results[0].names\n",
    "confidences = results[0].boxes.conf.tolist()\n",
    "\n",
    "for box, cls, name, confidence in zip(boxes, classes, names, confidences):\n",
    "    box = [int(coord) for coord in box]\n",
    "    cls = int(cls)\n",
    "    confidence = f\"{confidence:.2f}\"\n",
    "\n",
    "    # Draw the bounding box\n",
    "    draw = ImageDraw.Draw(image)\n",
    "    draw.rectangle(box, outline=\"red\", width=3)\n",
    "\n",
    "    label_text = f\" Confidence: {confidence}\"\n",
    "    draw.text((box[0], box[1]), label_text, fill=\"red\")\n",
    "\n",
    "image.show()"
   ]
  },
  {
   "cell_type": "code",
   "execution_count": null,
   "metadata": {},
   "outputs": [],
   "source": []
  }
 ],
 "metadata": {
  "kernelspec": {
   "display_name": "Python 3",
   "language": "python",
   "name": "python3"
  },
  "language_info": {
   "codemirror_mode": {
    "name": "ipython",
    "version": 3
   },
   "file_extension": ".py",
   "mimetype": "text/x-python",
   "name": "python",
   "nbconvert_exporter": "python",
   "pygments_lexer": "ipython3",
   "version": "3.11.2"
  },
  "orig_nbformat": 4
 },
 "nbformat": 4,
 "nbformat_minor": 2
}
